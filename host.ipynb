"""
Home Automation Project - Server 
Zachary Jordan, Sun Gyu, Rohit Bagda 

This file contains the server code for the project. It recieves commands from the client/Pygame interface and responds accordingly. 
"""

import socket
import RPi.GPIO as GPIO
import time
import sys
sys.path.append('/home/pi/work/Notebooks/lib')
import LCD1602
power_pin=16

"""
This function sets up the GPIO components that are used throughout the project
"""
def setup():
    GPIO.setmode(GPIO.BOARD)       # Numbers GPIOs by physical location
    GPIO.setup(power_pin, GPIO.OUT)
    GPIO.output(power_pin, False)

"""
This function sets up the LCD screen 
"""
def LCDSetup():
    LCD1602.init(0x27,1) #Starts up the LCD screen
    time.sleep(2)
    
"""
This function recieves commands from the user and redirects power accordingly to turn lights on and off
"""
def Power(command,conn):
    if command == "LED 1 ON":
        print "Setting power to true"
        GPIO.output(power_pin, True) #Turns the relay system to change
    elif command == "LED 1 OFF":
        GPIO.output(power_pin, False) #Same as the first condition
    elif command[:4]=="LCD ":
        displayLCD(command[4:]) #Displays LCD when it receives the message from the clilent
    elif command=="SWITCH OFF LCD": #Turns the LCD off when the following condition is met
        temp=1
        destroyLCD()

"""
This function disables the GPIO action and clears the LCD
"""
def destroy():
    GPIO.output(power_pin, False) #Puts the relay to its previous state
    GPIO.cleanup() #Clears up any GPIO that is running
    LCD1602.clear() # Clears the LCD Screen to be blank

"""
This function displays the message on the LCD screen
"""

def displayLCD(message):
    LCD1602.write(1,0,message[:16]) #Displaying the first part of the message at the top line of the LCD
    LCD1602.write(5,1,message[15:]) #Displaying the second part of the message at the bottom of the LCD
    
"""
This function clears the LCD screen
"""
def destroyLCD():
    LCD1602.clear()

"""
This is the main function that defines the host and port information and handles initial binding 
"""
def Main():
    host = "141.140.152.91" #The number for the IP address that the server will be hosting in.
    port = 5000 #This is the port number that it will be opening
     
    mySocket = socket.socket() #Creates a socket for the server to be hosted
    mySocket.bind((host,port)) #hosts the server with the IP and port number given in the socket
     
    mySocket.listen(1) #Awaits for the response in the server
    conn, addr = mySocket.accept() #Server responds to whatever it received in the server and assign to conn and addr
                                    # in connection and IP address returned
    print ("Connection from: " + str(addr))
    while True:
            data = conn.recv(1024).decode()
            if not data:
                    break
            elif data=="quit":        
                conn.close() #Disconnects the client after the data variable equals to "quit"
                mySocket.listen(1)
                conn, addr = mySocket.accept()   #The two lines here are to receive a new client after disconnecting the initial one           
            print ("from connected  user: " + str(data)) 
            Power(str(data),conn) #Sends the messages and the connected client in the port recevied from the client to turn the light or LCD off and on.

"""
This function runs as the program is started and runs initial functions 
"""
if __name__ == '__main__':     
    setup()
    LCDSetup()
    try:
        Main()
    except KeyboardInterrupt: #When the stop button is pressed, everything stops working and stops connection from clients.
        destroy()
        
"""
Citations:
1) https://pythonprogramming.net/displaying-text-pygame-screen/
2) https://pythonprogramming.net/drawing-objects-pygame-tutorial/?completed=/displaying-text-pygame-screen/
3) http://www.pygame.org/docs/ref/draw.html
4) http://www.pygame.org/docs/ref/mouse.html
"""
