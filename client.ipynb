"""
Home Automation Project - Client File with Pygame
Zachary Jordan, Sun Gyu, Rohit Bagda 

This file allows users to send commands to the server host. It also contains the interface for the project, which uses 
Pygame to enable users to interact with the project. 
"""

import pygame, sys
from pygame.locals import*
import pygame.display
import time
import socket

"""
This function connects the program to the host and designated IP
"""
def socketSetup():
    host = '141.140.152.91' #The IP address that the server will be held in
    port = 5000 #The port number in which the socket will be held in

    mySocket = socket.socket()
    mySocket.connect((host,port)) #The socket is connecting to the host that is waiting for the response in the server
    return mySocket
    

"""
This function sets up the display using Pygame
"""
def setupScreen():
    pygame.init() #Starts up Pygame
    DISPLAYSURF = pygame.display.set_mode((700,500)) #Creates a window with the following dimensions in the parameter
    pygame.display.set_caption('Home Automation') #What the title of the pygame window would be 
    colorBack = (125,156,200) #Background color
    DISPLAYSURF.fill(colorBack) #This fills in the Background with the designated color values in the parameter
    font = pygame.font.Font(None, 70) #The font of the title. First parameter is the font name and second is the font size.
    text = font.render("Home Automation", 10, (0,0,0)) #How the font will be displayed in the pygame window is the text.
    textpos = (150, 90) #Where the text will be displayed in the Pygame window
    DISPLAYSURF.blit(text, textpos) #Displays the Title with the text and the position in which the text will be displayed at
    return DISPLAYSURF

"""
This function sets up the quit button
"""
def setupQuit(DISPLAYSURF):
    black = (0,0,0)
    font = pygame.font.Font(None, 36)
    text3 = font.render("QUIT", 10, (150,150,150))
    textpos3 = (320, 390)
    pygame.draw.rect(DISPLAYSURF, black,[250, 350, 200, 100]) #Creates a black box as a quit button on the pygame window
    DISPLAYSURF.blit(text3, textpos3) #Displays the Quit text in the designated spot
    
"""
This function sets up the first light button
"""
def setupLight1(DISPLAYSURF):
    green = (0,200,0)
    font = pygame.font.Font(None, 36)
    text = font.render("Light 1", 10, (0,0,0))
    textpos = (150,200)
    pygame.draw.rect(DISPLAYSURF, green,[100, 170, 200, 100])
    DISPLAYSURF.blit(text, textpos)#Displays the Light 1 text in the designated spot


"""
This function sets up the LCD button
"""
def setupLCD(DISPLAYSURF):
    red = (200,0,0)
    font = pygame.font.Font(None, 36)
    text = font.render("LCD", 10, (0,0,0))
    textpos = (470, 207)
    pygame.draw.rect(DISPLAYSURF, red,[400, 170, 200, 100])
    DISPLAYSURF.blit(text, textpos)

"""
This function sends the command to the server to control the relay in order to switch the light on and off
"""
def switchOne(onOff,bright_green, green, DISPLAYSURF):
    font = pygame.font.Font(None, 36)
    text = font.render("Light 1", 10, (0,0,0))
    textpos = (150,200)
    message = ""
    if onOff == False:
        pygame.draw.rect(DISPLAYSURF, bright_green,[100, 170, 200, 100])
        onOff = True
        message = "LED 1 ON"
    else:
        pygame.draw.rect(DISPLAYSURF, green,[100, 170, 200, 100])
        onOff = False
        message = "LED 1 OFF"
    DISPLAYSURF.blit(text, textpos)
    return message, onOff

"""
This function sends the command to the server to switch on the LCD
"""
def switchLCD(onOff,bright_red, red, DISPLAYSURF):
    font = pygame.font.Font(None, 36)
    text2 = font.render("LCD", 10, (0,0,0))
    textpos2 = (470, 207)
    if onOff == False:
        pygame.draw.rect(DISPLAYSURF, bright_red,[400, 170, 200, 100])
        onOff = True
        message = "LCD Welcome to our House!"
    else:
        pygame.draw.rect(DISPLAYSURF, red,[400, 170, 200, 100])
        onOff = False
        message = "SWITCH OFF LCD"
    DISPLAYSURF.blit(text2, textpos2)
    return message, onOff

"""
This function recieves the button press and calls the respective function
"""
def mainEventLoop(theSocket, DISPLAYSURF):
    quitFlag = False
    switch1 = False
    swtLCD = False
    white = (255,255,255)
    red = (200,0,0)
    green = (0,200,0)
    bright_red = (255,0,0)
    bright_green = (0,255,0)
    message = ""
    
    while not quitFlag:
        for event in pygame.event.get():
            presence = pygame.mouse.get_pressed()
            if presence[0] == 1:
                mouse = pygame.mouse.get_pos()
              
                if 300 >= mouse[0] >= 100 and 270 >= mouse[1] >= 170:
                    message, switch1 = switchOne(switch1,bright_green, green, DISPLAYSURF)
                    theSocket.send(message.encode())
                
                elif 600>= mouse[0]>=400 and 270 >= mouse[1] >= 170:
                    message, swtLCD = switchLCD(swtLCD,bright_red, red, DISPLAYSURF)
                    theSocket.send(message.encode())
                
                elif 450 >= mouse[0] >= 250 and 450 >= mouse[1] >= 350:
                    quitFlag = True                  
                    message = "quit"
                    theSocket.send(message.encode())
                    theSocket.close()
                    break
                    
            if not quitFlag:
                pygame.display.update()
    pygame.quit()

"""
This function executes the functions and sets up Pygame
"""
def main():
    theSocket = socketSetup()
    DISPLAYSURF = setupScreen()
    setupLight1(DISPLAYSURF)
    setupLCD(DISPLAYSURF)
    setupQuit(DISPLAYSURF)
    mainEventLoop(theSocket, DISPLAYSURF)

"""
This runs as the project loads and calls the main function 
"""
if __name__ == '__main__':     
    main() 
    
"""
Citations:
1) https://pythonprogramming.net/displaying-text-pygame-screen/
2) https://pythonprogramming.net/drawing-objects-pygame-tutorial/?completed=/displaying-text-pygame-screen/
3) http://www.pygame.org/docs/ref/draw.html
4) http://www.pygame.org/docs/ref/mouse.html
